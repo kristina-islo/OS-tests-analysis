{
 "cells": [
  {
   "cell_type": "code",
   "execution_count": 1,
   "metadata": {},
   "outputs": [
    {
     "name": "stdout",
     "output_type": "stream",
     "text": [
      "Warning: cannot find astropy, units support will not be available.\n"
     ]
    }
   ],
   "source": [
    "%matplotlib inline\n",
    "%config InlineBackend.figure_format = 'retina'\n",
    "%load_ext autoreload\n",
    "%autoreload 2\n",
    "\n",
    "import matplotlib\n",
    "import matplotlib.pyplot as plt\n",
    "matplotlib.rcParams['savefig.dpi'] = 1.5 * matplotlib.rcParams['savefig.dpi']\n",
    "\n",
    "import numpy as np\n",
    "import libstempo as T\n",
    "import libstempo.toasim as LT\n",
    "import os,sys,glob,math\n",
    "import h5py as h5\n",
    "import NX01_psr\n",
    "\n",
    "try:\n",
    "    from IPython.core.display import clear_output\n",
    "    have_ipython = True\n",
    "except ImportError:\n",
    "    have_ipython = False\n",
    "\n",
    "day = 24 * 3600\n",
    "year = 365.25 * day"
   ]
  },
  {
   "cell_type": "code",
   "execution_count": null,
   "metadata": {},
   "outputs": [],
   "source": [
    "# name, hdf5-path, par-path, tim-path\n",
    "psr_pathinfo = np.genfromtxt('../data/psrList_sim2.txt', dtype=str, skip_header=2)\n",
    "\n",
    "tmp_psr = []\n",
    "for ii,tmp_name in enumerate(psr_pathinfo[0:10,0],start=0):\n",
    "    tmp_psr.append(h5.File(psr_pathinfo[ii,1], 'r')[tmp_name])\n",
    "                                                                                                                     \n",
    "psr = [NX01_psr.PsrObjFromH5(p) for p in tmp_psr]\n",
    "\n",
    "# Grab all the pulsar quantities\n",
    "[p.grab_all_vars() for p in psr]\n",
    "\n",
    "# simulation noise properties\n",
    "pwhite = np.array([1.58,2.60,1.47,1.99,1.65,0.26,0.65,1.51,0.12,1.19])\n",
    "predAmp = np.array([-13.90,-14.14,-13.09,-13.24,-18.56,-14.9,-13.6,-16.0,-13.99,-13.87])\n",
    "predGam = np.array([3.18,2.58,1.65,0.03,4.04,4.85,2.00,1.35,2.06,4.02])\n",
    "\n",
    "# reading in sim2 par files\n",
    "parfiles = sorted(glob.glob('../data/sim_parfiles/*_stripped.par'))\n",
    "\n",
    "for ii in range(len(psr)):\n",
    "    print psr[ii].name, parfiles[ii], pwhite[ii], predAmp[ii], predGam[ii]"
   ]
  },
  {
   "cell_type": "code",
   "execution_count": null,
   "metadata": {
    "collapsed": true
   },
   "outputs": [],
   "source": []
  },
  {
   "cell_type": "code",
   "execution_count": null,
   "metadata": {
    "collapsed": true
   },
   "outputs": [],
   "source": [
    "dataset = '../data/simulated_data/dataset1'\n",
    "Agwb = 5e-15\n",
    "if not os.path.exists(dataset):\n",
    "    os.makedirs(dataset)"
   ]
  },
  {
   "cell_type": "code",
   "execution_count": null,
   "metadata": {},
   "outputs": [],
   "source": [
    "psrtmp = []\n",
    "for ii in range(len(psr)):\n",
    "\n",
    "    psrtmp.append(LT.fakepulsar(parfile = parfiles[ii],\n",
    "                                obstimes = psr[ii].toas,  \n",
    "                                toaerr = psr[ii].toaerrs/1e-6))\n",
    "\n",
    "## Add in pulsar white noise\n",
    "\n",
    "for ii in range(len(psrtmp)):\n",
    "    LT.add_efac(psrtmp[ii], efac=1.0)\n",
    "\n",
    "for ii in range(len(psrtmp)):\n",
    "    psrtmp[ii].fit(iters=5)\n",
    "\n",
    "## Add in red noise with same spectral properties as Sim2\n",
    "\n",
    "for ii in range(len(psrtmp)):\n",
    "    LT.add_rednoise(psrtmp[ii],10.0**predAmp[ii],predGam[ii],\n",
    "                    components=50,seed=None)\n",
    "\n",
    "for ii in range(len(psrtmp)):\n",
    "    psrtmp[ii].fit(iters=5)\n",
    "    \n",
    "## Add in GWB \n",
    "LT.createGWB(psrtmp, Agwb, 13./3., seed=None)\n",
    "\n",
    "for ii in range(len(psrtmp)):\n",
    "    psrtmp[ii].fit(iters=5)\n",
    "\n",
    "## Save par and tim files\n",
    "for ii in range(len(psrtmp)):\n",
    "    psrtmp[ii].savepar(dataset+'/{0}_optstatsim.par'.format(psrtmp[ii].name))\n",
    "    psrtmp[ii].savetim(dataset+'/{0}_optstatsim.tim'.format(psrtmp[ii].name))"
   ]
  }
 ],
 "metadata": {
  "kernelspec": {
   "display_name": "Python 2",
   "language": "python",
   "name": "python2"
  },
  "language_info": {
   "codemirror_mode": {
    "name": "ipython",
    "version": 2
   },
   "file_extension": ".py",
   "mimetype": "text/x-python",
   "name": "python",
   "nbconvert_exporter": "python",
   "pygments_lexer": "ipython2",
   "version": "2.7.10"
  }
 },
 "nbformat": 4,
 "nbformat_minor": 1
}
