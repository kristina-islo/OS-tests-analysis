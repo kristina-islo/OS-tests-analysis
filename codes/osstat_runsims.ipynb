{
 "cells": [
  {
   "cell_type": "code",
   "execution_count": 1,
   "metadata": {
    "collapsed": false,
    "deletable": true,
    "editable": true
   },
   "outputs": [
    {
     "name": "stdout",
     "output_type": "stream",
     "text": [
      "WARNING: scikit-sparse note installed, will try scikits.sparse...\n",
      "WARNING: scikits.sparse note installed, will not use sparse matrices\n"
     ]
    }
   ],
   "source": [
    "%matplotlib inline\n",
    "%config InlineBackend.figure_format = 'retina'\n",
    "%load_ext autoreload\n",
    "%autoreload 2\n",
    "\n",
    "import numpy as np\n",
    "import os,sys,glob,math\n",
    "#import h5py as h5\n",
    "import matplotlib.pyplot as plt\n",
    "#import matplotlib\n",
    "#matplotlib.rcParams['savefig.dpi'] = 1.5 * matplotlib.rcParams['savefig.dpi']\n",
    "\n",
    "import optstat\n",
    "import makesims\n",
    "\n",
    "try:\n",
    "    from IPython.core.display import clear_output\n",
    "    have_ipython = True\n",
    "except ImportError:\n",
    "    have_ipython = False\n",
    "\n",
    "day = 24 * 3600\n",
    "year = 365.25 * day"
   ]
  },
  {
   "cell_type": "markdown",
   "metadata": {
    "deletable": true,
    "editable": true
   },
   "source": [
    "In order to run a simulation, all you need to do is specify a name for your dataset (in this case, dataset2)."
   ]
  },
  {
   "cell_type": "code",
   "execution_count": 2,
   "metadata": {
    "collapsed": false,
    "deletable": true,
    "editable": true
   },
   "outputs": [
    {
     "name": "stdout",
     "output_type": "stream",
     "text": [
      "Getting pulsar parameters for simulated dataset...\n",
      "--> Extracting J0613-0200 from hdf5 file\n",
      "--> Done extracting pulsar from hdf5 file :-) \n",
      "\n",
      "--> Extracting J0751+1807 from hdf5 file\n",
      "--> Done extracting pulsar from hdf5 file :-) \n",
      "\n",
      "--> Extracting J1012+5307 from hdf5 file\n",
      "--> Done extracting pulsar from hdf5 file :-) \n",
      "\n",
      "--> Extracting J1640+2224 from hdf5 file\n",
      "--> Done extracting pulsar from hdf5 file :-) \n",
      "\n",
      "--> Extracting J1643-1224 from hdf5 file\n",
      "--> Done extracting pulsar from hdf5 file :-) \n",
      "\n",
      "--> Extracting J1713+0747 from hdf5 file\n",
      "--> Done extracting pulsar from hdf5 file :-) \n",
      "\n",
      "--> Extracting J1744-1134 from hdf5 file\n",
      "--> Done extracting pulsar from hdf5 file :-) \n",
      "\n",
      "--> Extracting J1857+0943 from hdf5 file\n",
      "--> Done extracting pulsar from hdf5 file :-) \n",
      "\n",
      "--> Extracting J1909-3744 from hdf5 file\n",
      "--> Done extracting pulsar from hdf5 file :-) \n",
      "\n",
      "--> Extracting J2145-0750 from hdf5 file\n",
      "--> Done extracting pulsar from hdf5 file :-) \n",
      "\n",
      "J0613-0200 ../data/sim_parfiles/J0613-0200_stripped.par 1.58 -13.9 3.18\n",
      "J0751+1807 ../data/sim_parfiles/J0751+1807_stripped.par 2.6 -14.14 2.58\n",
      "J1012+5307 ../data/sim_parfiles/J1012+5307_stripped.par 1.47 -13.09 1.65\n",
      "J1640+2224 ../data/sim_parfiles/J1640+2224_stripped.par 1.99 -13.24 0.03\n",
      "J1643-1224 ../data/sim_parfiles/J1643-1224_stripped.par 1.65 -18.56 4.04\n",
      "J1713+0747 ../data/sim_parfiles/J1713+0747_stripped.par 0.26 -14.9 4.85\n",
      "J1744-1134 ../data/sim_parfiles/J1744-1134_stripped.par 0.65 -13.6 2.0\n",
      "J1857+0943 ../data/sim_parfiles/J1857+0943_stripped.par 1.51 -16.0 1.35\n",
      "J1909-3744 ../data/sim_parfiles/J1909-3744_stripped.par 0.12 -13.99 2.06\n",
      "J2145-0750 ../data/sim_parfiles/J2145-0750_stripped.par 1.19 -13.87 4.02\n",
      "Making simulated data in directory ../data/simulated_data/dataset3\n",
      "Making the hdf5 file for the simulated dataset...\n",
      "Finished!\n"
     ]
    }
   ],
   "source": [
    "Agwb = 5e-15\n",
    "dataset = 'dataset3'\n",
    "\n",
    "makesims.create_dataset(dataset, Agwb)"
   ]
  },
  {
   "cell_type": "code",
   "execution_count": 3,
   "metadata": {
    "collapsed": false,
    "deletable": true,
    "editable": true
   },
   "outputs": [
    {
     "name": "stdout",
     "output_type": "stream",
     "text": [
      "Running the common red noise analysis for the simulated dataset...\n",
      "Noise chains saved in directory ../data/chains/dataset3\n",
      "Running the individual white noise analyses for each pulsar...\n",
      "Making the noise files for each pulsar in directory ../data/noisefiles/dataset3\n",
      "Finished!\n"
     ]
    }
   ],
   "source": [
    "optstat.run_noise_analysis(dataset)"
   ]
  },
  {
   "cell_type": "code",
   "execution_count": 4,
   "metadata": {
    "collapsed": false,
    "deletable": true,
    "editable": true
   },
   "outputs": [
    {
     "name": "stdout",
     "output_type": "stream",
     "text": [
      "Initializing model...\n",
      "Using longest timespan of 17.6334500107 yr for Tmax\n",
      "Loading chains from ../data/chains/dataset3/fix_spec_nf_30/chain_1.txt\n",
      "Running 1000 realizations of the noise...\n",
      "Writing output to file ../data/optstat/dataset3/marg_os.dat\n"
     ]
    }
   ],
   "source": [
    "psrlist = list(np.loadtxt('../data/psrList.txt', dtype='S42'))\n",
    "h5file = '../data/simulated_data/' + dataset + '/sim.hdf5'\n",
    "opts, sigs, snr = optstat.compute_optstat_marg(dataset, psrlist, nf=30, \n",
    "                                               noVaryNoise=True, incJitterEquad=False, \n",
    "                                               incEquad=False)"
   ]
  },
  {
   "cell_type": "code",
   "execution_count": 5,
   "metadata": {
    "collapsed": false,
    "deletable": true,
    "editable": true
   },
   "outputs": [
    {
     "data": {
      "image/png": "[encoded data removed]",
      "text/plain": [
       "<matplotlib.figure.Figure at 0x1069dbdd0>"
      ]
     },
     "metadata": {
      "image/png": {
       "height": 262,
       "width": 383
      }
     },
     "output_type": "display_data"
    }
   ],
   "source": [
    "chain = np.loadtxt('../data/chains/' + dataset + '/fix_spec_nf_30/chain_1.txt')\n",
    "burn = int(0.25*chain.shape[0])\n",
    "plt.hist(10.**chain[burn:,-5], histtype='step', bins=50);"
   ]
  },
  {
   "cell_type": "code",
   "execution_count": 6,
   "metadata": {
    "collapsed": false,
    "deletable": true,
    "editable": true
   },
   "outputs": [
    {
     "data": {
      "text/plain": [
       "<matplotlib.text.Text at 0x11c79fe10>"
      ]
     },
     "execution_count": 6,
     "metadata": {},
     "output_type": "execute_result"
    },
    {
     "data": {
      "image/png": "[encoded data removed]",
      "text/plain": [
       "<matplotlib.figure.Figure at 0x153e1b9d0>"
      ]
     },
     "metadata": {
      "image/png": {
       "height": 263,
       "width": 705
      }
     },
     "output_type": "display_data"
    }
   ],
   "source": [
    "fig, axs = plt.subplots(1, 3, figsize=(12,4))\n",
    "for i, a in enumerate([opts, sigs, snr]):\n",
    "    axs[i].hist(a, histtype='step', bins=50);\n",
    "axs[0].axvline(Agwb**2, color='r', ls='--')\n",
    "axs[0].set_xlabel('Optimal Statistic')\n",
    "axs[1].set_xlabel('Sigma')\n",
    "axs[2].set_xlabel('SNR')"
   ]
  },
  {
   "cell_type": "code",
   "execution_count": null,
   "metadata": {
    "collapsed": true,
    "deletable": true,
    "editable": true
   },
   "outputs": [],
   "source": []
  }
 ],
 "metadata": {
  "kernelspec": {
   "display_name": "Python 2",
   "language": "python",
   "name": "python2"
  },
  "language_info": {
   "codemirror_mode": {
    "name": "ipython",
    "version": 2
   },
   "file_extension": ".py",
   "mimetype": "text/x-python",
   "name": "python",
   "nbconvert_exporter": "python",
   "pygments_lexer": "ipython2",
   "version": "2.7.12"
  }
 },
 "nbformat": 4,
 "nbformat_minor": 0
}
