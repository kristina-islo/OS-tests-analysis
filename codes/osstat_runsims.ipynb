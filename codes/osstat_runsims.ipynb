{
 "cells": [
  {
   "cell_type": "code",
   "execution_count": 1,
   "metadata": {
    "collapsed": false,
    "deletable": true,
    "editable": true
   },
   "outputs": [
    {
     "name": "stdout",
     "output_type": "stream",
     "text": [
      "WARNING: scikit-sparse note installed, will try scikits.sparse...\n",
      "WARNING: scikits.sparse note installed, will not use sparse matrices\n"
     ]
    }
   ],
   "source": [
    "%matplotlib inline\n",
    "%config InlineBackend.figure_format = 'retina'\n",
    "%load_ext autoreload\n",
    "%autoreload 2\n",
    "\n",
    "import matplotlib\n",
    "import matplotlib.pyplot as plt\n",
    "#matplotlib.rcParams['savefig.dpi'] = 1.5 * matplotlib.rcParams['savefig.dpi']\n",
    "\n",
    "import numpy as np\n",
    "import libstempo as T\n",
    "import libstempo.toasim as LT\n",
    "import os,sys,glob,math\n",
    "import h5py as h5\n",
    "import NX01_psr\n",
    "import optstat\n",
    "\n",
    "try:\n",
    "    from IPython.core.display import clear_output\n",
    "    have_ipython = True\n",
    "except ImportError:\n",
    "    have_ipython = False\n",
    "\n",
    "day = 24 * 3600\n",
    "year = 365.25 * day"
   ]
  },
  {
   "cell_type": "code",
   "execution_count": 2,
   "metadata": {
    "collapsed": false,
    "deletable": true,
    "editable": true
   },
   "outputs": [
    {
     "name": "stdout",
     "output_type": "stream",
     "text": [
      "--> Extracting J0613-0200 from hdf5 file\n",
      "--> Done extracting pulsar from hdf5 file :-) \n",
      "\n",
      "--> Extracting J0751+1807 from hdf5 file\n",
      "--> Done extracting pulsar from hdf5 file :-) \n",
      "\n",
      "--> Extracting J1012+5307 from hdf5 file\n",
      "--> Done extracting pulsar from hdf5 file :-) \n",
      "\n",
      "--> Extracting J1640+2224 from hdf5 file\n",
      "--> Done extracting pulsar from hdf5 file :-) \n",
      "\n",
      "--> Extracting J1643-1224 from hdf5 file\n",
      "--> Done extracting pulsar from hdf5 file :-) \n",
      "\n",
      "--> Extracting J1713+0747 from hdf5 file\n",
      "--> Done extracting pulsar from hdf5 file :-) \n",
      "\n",
      "--> Extracting J1744-1134 from hdf5 file\n",
      "--> Done extracting pulsar from hdf5 file :-) \n",
      "\n",
      "--> Extracting J1857+0943 from hdf5 file\n",
      "--> Done extracting pulsar from hdf5 file :-) \n",
      "\n",
      "--> Extracting J1909-3744 from hdf5 file\n",
      "--> Done extracting pulsar from hdf5 file :-) \n",
      "\n",
      "--> Extracting J2145-0750 from hdf5 file\n",
      "--> Done extracting pulsar from hdf5 file :-) \n",
      "\n",
      "J0613-0200 ../data/sim_parfiles/J0613-0200_stripped.par 1.58 -13.9 3.18\n",
      "J0751+1807 ../data/sim_parfiles/J0751+1807_stripped.par 2.6 -14.14 2.58\n",
      "J1012+5307 ../data/sim_parfiles/J1012+5307_stripped.par 1.47 -13.09 1.65\n",
      "J1640+2224 ../data/sim_parfiles/J1640+2224_stripped.par 1.99 -13.24 0.03\n",
      "J1643-1224 ../data/sim_parfiles/J1643-1224_stripped.par 1.65 -18.56 4.04\n",
      "J1713+0747 ../data/sim_parfiles/J1713+0747_stripped.par 0.26 -14.9 4.85\n",
      "J1744-1134 ../data/sim_parfiles/J1744-1134_stripped.par 0.65 -13.6 2.0\n",
      "J1857+0943 ../data/sim_parfiles/J1857+0943_stripped.par 1.51 -16.0 1.35\n",
      "J1909-3744 ../data/sim_parfiles/J1909-3744_stripped.par 0.12 -13.99 2.06\n",
      "J2145-0750 ../data/sim_parfiles/J2145-0750_stripped.par 1.19 -13.87 4.02\n"
     ]
    }
   ],
   "source": [
    "# name, hdf5-path, par-path, tim-path\n",
    "psr_pathinfo = np.genfromtxt('../data/psrList_sim2.txt', dtype=str, skip_header=2)\n",
    "\n",
    "tmp_psr = []\n",
    "for ii,tmp_name in enumerate(psr_pathinfo[0:10,0],start=0):\n",
    "    tmp_psr.append(h5.File(psr_pathinfo[ii,1], 'r')[tmp_name])\n",
    "                                                                                                                     \n",
    "psr = [NX01_psr.PsrObjFromH5(p) for p in tmp_psr]\n",
    "\n",
    "# Grab all the pulsar quantities\n",
    "[p.grab_all_vars() for p in psr]\n",
    "\n",
    "# simulation noise properties\n",
    "pwhite = np.array([1.58,2.60,1.47,1.99,1.65,0.26,0.65,1.51,0.12,1.19])\n",
    "predAmp = np.array([-13.90,-14.14,-13.09,-13.24,-18.56,-14.9,-13.6,-16.0,-13.99,-13.87])\n",
    "predGam = np.array([3.18,2.58,1.65,0.03,4.04,4.85,2.00,1.35,2.06,4.02])\n",
    "\n",
    "# reading in sim2 par files\n",
    "parfiles = sorted(glob.glob('../data/sim_parfiles/*_stripped.par'))\n",
    "\n",
    "for ii in range(len(psr)):\n",
    "    print psr[ii].name, parfiles[ii], pwhite[ii], predAmp[ii], predGam[ii]"
   ]
  },
  {
   "cell_type": "markdown",
   "metadata": {
    "deletable": true,
    "editable": true
   },
   "source": [
    "From here on we iterate over the number of datasets we want to construct."
   ]
  },
  {
   "cell_type": "code",
   "execution_count": 3,
   "metadata": {
    "collapsed": false,
    "deletable": true,
    "editable": true
   },
   "outputs": [],
   "source": [
    "dataset = 'test'\n",
    "Agwb = 5e-15\n",
    "\n",
    "mypsrs = optstat.create_dataset(dataset, Agwb, psr, parfiles, \n",
    "                                pwhite, predAmp, predGam)"
   ]
  },
  {
   "cell_type": "code",
   "execution_count": 4,
   "metadata": {
    "collapsed": false,
    "deletable": true,
    "editable": true
   },
   "outputs": [
    {
     "name": "stdout",
     "output_type": "stream",
     "text": [
      "Making noise files for J0613-0200\n",
      "\n",
      "Making noise files for J0751+1807\n",
      "\n",
      "Making noise files for J1012+5307\n",
      "\n",
      "Making noise files for J1640+2224\n",
      "\n",
      "Making noise files for J1643-1224\n",
      "\n",
      "Making noise files for J1713+0747\n",
      "\n",
      "Making noise files for J1744-1134\n",
      "\n",
      "Making noise files for J1857+0943\n",
      "\n",
      "Making noise files for J1909-3744\n",
      "\n",
      "Making noise files for J2145-0750\n",
      "\n"
     ]
    }
   ],
   "source": [
    "optstat.run_noise_analysis(dataset, niter=5000)"
   ]
  },
  {
   "cell_type": "code",
   "execution_count": null,
   "metadata": {
    "collapsed": true
   },
   "outputs": [],
   "source": []
  }
 ],
 "metadata": {
  "kernelspec": {
   "display_name": "Python 2",
   "language": "python",
   "name": "python2"
  },
  "language_info": {
   "codemirror_mode": {
    "name": "ipython",
    "version": 2
   },
   "file_extension": ".py",
   "mimetype": "text/x-python",
   "name": "python",
   "nbconvert_exporter": "python",
   "pygments_lexer": "ipython2",
   "version": "2.7.12"
  }
 },
 "nbformat": 4,
 "nbformat_minor": 0
}
